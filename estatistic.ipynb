{
  "nbformat": 4,
  "nbformat_minor": 0,
  "metadata": {
    "colab": {
      "provenance": [],
      "authorship_tag": "ABX9TyNmY79qltlOF0GEb0gk2hxa",
      "include_colab_link": true
    },
    "kernelspec": {
      "name": "python3",
      "display_name": "Python 3"
    },
    "language_info": {
      "name": "python"
    }
  },
  "cells": [
    {
      "cell_type": "markdown",
      "metadata": {
        "id": "view-in-github",
        "colab_type": "text"
      },
      "source": [
        "<a href=\"https://colab.research.google.com/github/LUCASDNORONHA/Python_Math/blob/main/estatistic.ipynb\" target=\"_parent\"><img src=\"https://colab.research.google.com/assets/colab-badge.svg\" alt=\"Open In Colab\"/></a>"
      ]
    },
    {
      "cell_type": "code",
      "execution_count": 1,
      "metadata": {
        "colab": {
          "base_uri": "https://localhost:8080/"
        },
        "id": "qaSSS0CwM0cQ",
        "outputId": "b54113a9-de17-44fa-8710-1344b3afe201"
      },
      "outputs": [
        {
          "output_type": "stream",
          "name": "stdout",
          "text": [
            "(43, 45, 12, 645, 32, 54, 23, 64, 27, 32, 95, 34, 76)\n"
          ]
        }
      ],
      "source": [
        "data = (43, 45, 12, 645, 32, 54, 23, 64, 27, 32, 95, 34, 76)\n",
        "\n",
        "print(data)"
      ]
    },
    {
      "cell_type": "code",
      "source": [
        "m = sum(data) / len(data)\n",
        "print(f'Média: {m:.2f}')"
      ],
      "metadata": {
        "colab": {
          "base_uri": "https://localhost:8080/"
        },
        "id": "nlvUQK8PNn10",
        "outputId": "aaa10628-361e-46d6-b930-1b337180fabe"
      },
      "execution_count": 10,
      "outputs": [
        {
          "output_type": "stream",
          "name": "stdout",
          "text": [
            "Média: 90.92\n"
          ]
        }
      ]
    },
    {
      "cell_type": "code",
      "source": [
        "somatorio = sum( (x - m)**2 for x in data)\n",
        "print(f'Somatorio da diferença de x pela média ao elevado ao quadrado: {somatorio:.2f} ')"
      ],
      "metadata": {
        "colab": {
          "base_uri": "https://localhost:8080/"
        },
        "id": "Cl_xSU-JNvH0",
        "outputId": "51da4042-2190-48db-9aee-17897ca4be2e"
      },
      "execution_count": 11,
      "outputs": [
        {
          "output_type": "stream",
          "name": "stdout",
          "text": [
            "Somatorio da diferença de x pela média ao elevado ao quadrado: 338846.92 \n"
          ]
        }
      ]
    },
    {
      "cell_type": "code",
      "source": [
        "variancia = somatorio / (len(data) - 1)\n",
        "print(f'Variancia: {variancia:.2f}')"
      ],
      "metadata": {
        "colab": {
          "base_uri": "https://localhost:8080/"
        },
        "id": "lj5oYeCVOJyN",
        "outputId": "c9625c0d-97e0-4550-dad4-6d9ad601be4d"
      },
      "execution_count": 12,
      "outputs": [
        {
          "output_type": "stream",
          "name": "stdout",
          "text": [
            "Variancia: 28237.24\n"
          ]
        }
      ]
    },
    {
      "cell_type": "code",
      "source": [
        "desvio_padrao = variancia ** 0.5\n",
        "print(f'Desvio padrão: {desvio_padrao:.2f}')"
      ],
      "metadata": {
        "colab": {
          "base_uri": "https://localhost:8080/"
        },
        "id": "4yVcnimIO_Vd",
        "outputId": "b3ad0406-d76e-48b7-e778-bf0f15f2cd0b"
      },
      "execution_count": 13,
      "outputs": [
        {
          "output_type": "stream",
          "name": "stdout",
          "text": [
            "Variancia: 168.04\n"
          ]
        }
      ]
    },
    {
      "cell_type": "code",
      "source": [
        "\n",
        "data2 = (54, 65, 45, 95, 213, 54, 86, 90, 212)\n",
        "print(data2)\n"
      ],
      "metadata": {
        "colab": {
          "base_uri": "https://localhost:8080/"
        },
        "id": "c5pl2f8ZPPJr",
        "outputId": "33ff9dbf-5e55-4639-ab83-f10305bbdc9f"
      },
      "execution_count": 15,
      "outputs": [
        {
          "output_type": "stream",
          "name": "stdout",
          "text": [
            "(54, 65, 45, 95, 213, 54, 86, 90, 212)\n"
          ]
        }
      ]
    },
    {
      "cell_type": "code",
      "source": [
        "m2 = sum(data2) / len(data2)\n",
        "print(f'Média: ´{m:.2f}')"
      ],
      "metadata": {
        "colab": {
          "base_uri": "https://localhost:8080/"
        },
        "id": "TG5scB7rP3oA",
        "outputId": "50fb7315-903e-473f-b33e-10f1a4dc3685"
      },
      "execution_count": 16,
      "outputs": [
        {
          "output_type": "stream",
          "name": "stdout",
          "text": [
            "Média: ´90.92\n"
          ]
        }
      ]
    },
    {
      "cell_type": "code",
      "source": [
        "variancia2 = sum( (x - m)**2 for x in data2)\n",
        "print(f'Variancia: {variancia2:.2f}')"
      ],
      "metadata": {
        "colab": {
          "base_uri": "https://localhost:8080/"
        },
        "id": "azlw0YN_QF4K",
        "outputId": "55da3ed4-8c51-47b7-f4d6-c572f2d8bd41"
      },
      "execution_count": 17,
      "outputs": [
        {
          "output_type": "stream",
          "name": "stdout",
          "text": [
            "Variancia: 35111.67\n"
          ]
        }
      ]
    },
    {
      "cell_type": "code",
      "source": [
        "desvio_padrao2 = variancia2 ** 0.5\n",
        "print(f'Desvio padrão: {desvio_padrao2:.2f}')"
      ],
      "metadata": {
        "colab": {
          "base_uri": "https://localhost:8080/"
        },
        "id": "ziF84DZgQjcV",
        "outputId": "de3d4398-1a88-4eb6-d7db-bbea722fadfd"
      },
      "execution_count": 20,
      "outputs": [
        {
          "output_type": "stream",
          "name": "stdout",
          "text": [
            "Desvio padrão: 187.38\n"
          ]
        }
      ]
    },
    {
      "cell_type": "code",
      "source": [
        "data3 = (23, 34, 65, 12, 34, 54, 42, 23)\n",
        "m3 = sum(data3) / len(data3)\n",
        "v3 = sum( (x - m3)**2 for x in data3) / (len(data3) - 1)\n",
        "dp3 = v3 ** 0.5\n",
        "print('Conjunto de dados amostral: ', data)\n",
        "print(f'Média: {m3:.2f}')\n",
        "print(f'Variancia: {v3:.2f}')\n",
        "print(f'Desvio padrão: {dp3:.2f}')"
      ],
      "metadata": {
        "colab": {
          "base_uri": "https://localhost:8080/"
        },
        "id": "81aS0vDMQjbk",
        "outputId": "a2a2a088-528d-4dcb-c6c8-8ebfd5ea023a"
      },
      "execution_count": 23,
      "outputs": [
        {
          "output_type": "stream",
          "name": "stdout",
          "text": [
            "Conjunto de dados amostral:  (43, 45, 12, 645, 32, 54, 23, 64, 27, 32, 95, 34, 76)\n",
            "Média: 35.88\n",
            "Variancia: 303.27\n",
            "Desvio padrão: 17.41\n"
          ]
        }
      ]
    },
    {
      "cell_type": "code",
      "source": [
        "data4 = (523, 542, 765, 124, 845, 325, 215, 322)\n",
        "m4 = sum(data4)/len(data4)\n",
        "v4 = sum( (x - m4)** 2 for x in data4) / (len(data4) - 1)\n",
        "dp4 = v4 ** 0.5\n",
        "print('Conjunto de dados amostral: ', data4)\n",
        "print(f'Média: {m4:.2f}')\n",
        "print(f'Variancia: {v4:.2f}')\n",
        "print(f'Desvio padrão: {dp4:.2f}')"
      ],
      "metadata": {
        "colab": {
          "base_uri": "https://localhost:8080/"
        },
        "id": "3WdY2utIScqR",
        "outputId": "9e36f6fd-9bc8-44e0-806b-3d406e968832"
      },
      "execution_count": 24,
      "outputs": [
        {
          "output_type": "stream",
          "name": "stdout",
          "text": [
            "Conjunto de dados amostral:  (523, 542, 765, 124, 845, 325, 215, 322)\n",
            "Média: 457.62\n",
            "Variancia: 66012.55\n",
            "Desvio padrão: 256.93\n"
          ]
        }
      ]
    },
    {
      "cell_type": "markdown",
      "source": [
        "# Quartis\n",
        "\n",
        "\n"
      ],
      "metadata": {
        "id": "qSVbtEQaUsGB"
      }
    },
    {
      "cell_type": "code",
      "source": [
        "valores = (12, 43, 22, 54, 23, 12, 43, 45, 12, 32, 43, 54)\n",
        "valores_ordenados = sorted(valores)\n",
        "n = len(valores_ordenados)\n",
        "\n",
        "# Primeiro quartil (Q1)\n",
        "Q1_pos = (n + 1) / 4\n",
        "if Q1_pos.is_integer():\n",
        "    Q1 = valores_ordenados[int(Q1_pos) - 1]\n",
        "else:\n",
        "    inf = int(Q1_pos) - 1\n",
        "    sup = inf + 1\n",
        "    Q1 = (valores_ordenados[inf] + valores_ordenados[sup]) / 2\n",
        "\n",
        "print(f'Primeiro quartil: {Q1:.2f}')\n",
        "\n",
        "# Segundo quartil (Q2) - Mediana\n",
        "if n % 2 == 0:\n",
        "    mediana_pos_inf = n // 2 - 1\n",
        "    mediana_pos_sup = mediana_pos_inf + 1\n",
        "    Q2 = (valores_ordenados[mediana_pos_inf] + valores_ordenados[mediana_pos_sup]) / 2\n",
        "else:\n",
        "    mediana_pos = n // 2\n",
        "    Q2 = valores_ordenados[mediana_pos]\n",
        "\n",
        "print(f'Segundo quartil: {Q2:.2f}')\n",
        "\n",
        "\n",
        "# Terceiro quartil (Q3)\n",
        "Q3_pos = 3 * (n + 1) / 4\n",
        "if Q3_pos.is_integer():\n",
        "   Q3 = valores_ordenados[int(Q3_pos) - 1]\n",
        "else:\n",
        "  inf  = int(Q3_pos) - 1\n",
        "  sup = inf + 1\n",
        "  Q3 = (valores_ordenados[inf] + valores_ordenados[sup]) / 2\n",
        "\n",
        "print(f'Terceiro quartil: {Q3:.2f}')"
      ],
      "metadata": {
        "colab": {
          "base_uri": "https://localhost:8080/"
        },
        "id": "DkSaWWZtTNS_",
        "outputId": "54159de7-afe9-49e0-b100-8ac320659997"
      },
      "execution_count": 31,
      "outputs": [
        {
          "output_type": "stream",
          "name": "stdout",
          "text": [
            "Primeiro quartil: 17.00\n",
            "Segundo quartil: 37.50\n",
            "Terceiro quartil: 44.00\n"
          ]
        }
      ]
    }
  ]
}